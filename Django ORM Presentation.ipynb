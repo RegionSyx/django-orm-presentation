{
 "cells": [
  {
   "cell_type": "code",
   "execution_count": 1,
   "metadata": {
    "slideshow": {
     "slide_type": "skip"
    }
   },
   "outputs": [],
   "source": [
    "from django.db import connection, reset_queries\n",
    "import sqlparse\n",
    "reset_queries()\n",
    "def print_queries():\n",
    "    print(\"\")\n",
    "    print(\"----SQL Queries----\")\n",
    "    for q in connection.queries:\n",
    "        print(sqlparse.format(q[\"sql\"]))"
   ]
  },
  {
   "cell_type": "code",
   "execution_count": 2,
   "metadata": {
    "slideshow": {
     "slide_type": "skip"
    }
   },
   "outputs": [],
   "source": [
    "from books.models import Book, Author, Genre"
   ]
  },
  {
   "cell_type": "code",
   "execution_count": 3,
   "metadata": {
    "slideshow": {
     "slide_type": "skip"
    }
   },
   "outputs": [],
   "source": [
    "Author.objects.all().delete()\n",
    "Genre.objects.all().delete()\n",
    "Book.objects.all().delete()\n",
    "terry_pratchett = Author.objects.create(name=\"Terry Pratchett\", age=70)\n",
    "niel_gaiman = Author.objects.create(name=\"Niel Gaiman\", age=57)\n",
    "\n",
    "fantasy = Genre.objects.create(name=\"Fantasy\")\n",
    "\n",
    "good_omens = Book.objects.create(title=\"Good Omens\", genre=fantasy)\n",
    "good_omens.authors.add(terry_pratchett, niel_gaiman)\n"
   ]
  },
  {
   "cell_type": "markdown",
   "metadata": {
    "slideshow": {
     "slide_type": "slide"
    }
   },
   "source": [
    "# Django ORM\n",
    "![](https://imgs.xkcd.com/comics/exploits_of_a_mom.png)"
   ]
  },
  {
   "cell_type": "markdown",
   "metadata": {
    "slideshow": {
     "slide_type": "slide"
    }
   },
   "source": [
    "## What is an ORM (Object Relation Manager)?\n"
   ]
  },
  {
   "cell_type": "markdown",
   "metadata": {
    "slideshow": {
     "slide_type": "slide"
    }
   },
   "source": [
    "# A bridge between Python and SQL"
   ]
  },
  {
   "cell_type": "markdown",
   "metadata": {
    "slideshow": {
     "slide_type": "fragment"
    }
   },
   "source": [
    "![avatar](http://stuffpoint.com/avatar-the-last-airbender/image/59835-avatar-the-last-airbender-avatar-state.jpg)"
   ]
  },
  {
   "cell_type": "raw",
   "metadata": {
    "hide_egal": false,
    "is_egal": true,
    "slideshow": {
     "slide_type": "slide"
    }
   },
   "source": [
    "<svg height=\"250\" width=\"100%\" _vimium-has-onclick-listener=\"\"><desc>Created with Snap</desc><defs><filter id=\"Sjfd9rrc03\" filterUnits=\"userSpaceOnUse\"><feGaussianBlur in=\"SourceAlpha\" stdDeviation=\"3\"></feGaussianBlur><feOffset dx=\"0\" dy=\"2\" result=\"offsetblur\"></feOffset><feFlood flood-color=\"#000000\"></feFlood><feComposite in2=\"offsetblur\" operator=\"in\"></feComposite><feComponentTransfer><feFuncA type=\"linear\" slope=\"1\"></feFuncA></feComponentTransfer><feMerge><feMergeNode></feMergeNode><feMergeNode in=\"SourceGraphic\"></feMergeNode></feMerge></filter><marker viewBox=\"0 0 10 10\" markerWidth=\"10\" markerHeight=\"10\" orient=\"auto\" refX=\"9\" refY=\"3\" id=\"arrowEndMarker\"><polygon points=\"0,0,0,6,9,3,0,0\" fill=\"#323232\" id=\"arrow\" style=\"\"></polygon></marker><marker viewBox=\"0 0 10 10\" markerWidth=\"10\" markerHeight=\"10\" orient=\"auto\" refX=\"0\" refY=\"3\" id=\"arrowStartMarker\"><polygon points=\"0,3,9,0,9,6,0,3\" fill=\"#323232\" id=\"startArrow\" style=\"\"></polygon></marker></defs><g id=\"drup_elem_5\" first-frame=\"1\" last-frame=\"1\" _vimium-has-onclick-listener=\"\" class=\"drupElem\"><rect x=\"48.078125\" y=\"80.984375\" width=\"143\" height=\"55\" fill=\"#ffffff\" stroke=\"#000000\" vector-effect=\"non-scaling-stroke\" style=\"stroke-width: 1;\" _vimium-has-onclick-listener=\"\" class=\"core alignable sub\" transform=\"matrix(1,0,0,1,40,0)\"></rect><circle cx=\"119.578125\" cy=\"80.984375\" r=\"5\" stroke=\"#000000\" fill=\"#ffffff\" id=\"drup_elem_5_endpoint_0\" _vimium-has-onclick-listener=\"\" style=\"stroke-width: 1; opacity: 0;\" class=\"endPoint up sub\" transform=\"matrix(1,0,0,1,40,0)\"></circle><circle cx=\"119.578125\" cy=\"135.984375\" r=\"5\" stroke=\"#000000\" fill=\"#ffffff\" id=\"drup_elem_5_endpoint_1\" _vimium-has-onclick-listener=\"\" style=\"stroke-width: 1; opacity: 0;\" class=\"endPoint down sub\" transform=\"matrix(1,0,0,1,40,0)\"></circle><circle cx=\"48.078125\" cy=\"108.484375\" r=\"5\" stroke=\"#000000\" fill=\"#ffffff\" id=\"drup_elem_5_endpoint_2\" _vimium-has-onclick-listener=\"\" style=\"stroke-width: 1; opacity: 0;\" class=\"endPoint left sub\" transform=\"matrix(1,0,0,1,40,0)\"></circle><circle cx=\"191.078125\" cy=\"108.484375\" r=\"5\" stroke=\"#000000\" fill=\"#ffffff\" id=\"drup_elem_5_endpoint_3\" _vimium-has-onclick-listener=\"\" style=\"stroke-width: 1; opacity: 0;\" class=\"endPoint right sub\" transform=\"matrix(1,0,0,1,40,0)\"></circle><circle cx=\"48.078125\" cy=\"80.984375\" r=\"5\" stroke=\"#000000\" fill=\"#ffffff\" id=\"drup_elem_5_endpoint_4\" _vimium-has-onclick-listener=\"\" style=\"stroke-width: 1; opacity: 0;\" class=\"endPoint left-up sub\" transform=\"matrix(1,0,0,1,40,0)\"></circle><circle cx=\"48.078125\" cy=\"135.984375\" r=\"5\" stroke=\"#000000\" fill=\"#ffffff\" id=\"drup_elem_5_endpoint_5\" _vimium-has-onclick-listener=\"\" style=\"stroke-width: 1; opacity: 0;\" class=\"endPoint left-down sub\" transform=\"matrix(1,0,0,1,40,0)\"></circle><circle cx=\"191.078125\" cy=\"80.984375\" r=\"5\" stroke=\"#000000\" fill=\"#ffffff\" id=\"drup_elem_5_endpoint_6\" _vimium-has-onclick-listener=\"\" style=\"stroke-width: 1; opacity: 0;\" class=\"endPoint right-up sub\" transform=\"matrix(1,0,0,1,40,0)\"></circle><circle cx=\"191.078125\" cy=\"135.984375\" r=\"5\" stroke=\"#000000\" fill=\"#ffffff\" id=\"drup_elem_5_endpoint_7\" _vimium-has-onclick-listener=\"\" style=\"stroke-width: 1; opacity: 0;\" class=\"endPoint right-down sub\" transform=\"matrix(1,0,0,1,40,0)\"></circle><text x=\"119.578125\" y=\"108.484375\" style=\"font-size: 20px; text-anchor: middle; alignment-baseline: central; opacity: 0;\" class=\"egal-label sub\" transform=\"matrix(1,0,0,1,40,0)\">|</text></g><g id=\"drup_elem_6\" first-frame=\"1\" last-frame=\"1\" _vimium-has-onclick-listener=\"\" class=\"drupElem\"><rect x=\"48.078125\" y=\"80.984375\" width=\"143\" height=\"55\" fill=\"#ffffff\" stroke=\"#000000\" vector-effect=\"non-scaling-stroke\" style=\"stroke-width: 1;\" _vimium-has-onclick-listener=\"\" class=\"core alignable sub\" transform=\"matrix(1,0,0,1,563,0)\"></rect><circle cx=\"119.578125\" cy=\"80.984375\" r=\"5\" stroke=\"#000000\" fill=\"#ffffff\" id=\"drup_elem_6_endpoint_0\" _vimium-has-onclick-listener=\"\" style=\"stroke-width: 1; opacity: 0;\" class=\"endPoint up sub\" transform=\"matrix(1,0,0,1,563,0)\"></circle><circle cx=\"119.578125\" cy=\"135.984375\" r=\"5\" stroke=\"#000000\" fill=\"#ffffff\" id=\"drup_elem_6_endpoint_1\" _vimium-has-onclick-listener=\"\" style=\"stroke-width: 1; opacity: 0;\" class=\"endPoint down sub\" transform=\"matrix(1,0,0,1,563,0)\"></circle><circle cx=\"48.078125\" cy=\"108.484375\" r=\"5\" stroke=\"#000000\" fill=\"#ffffff\" id=\"drup_elem_6_endpoint_2\" _vimium-has-onclick-listener=\"\" style=\"stroke-width: 1; opacity: 0;\" class=\"endPoint left sub\" transform=\"matrix(1,0,0,1,563,0)\"></circle><circle cx=\"191.078125\" cy=\"108.484375\" r=\"5\" stroke=\"#000000\" fill=\"#ffffff\" id=\"drup_elem_6_endpoint_3\" _vimium-has-onclick-listener=\"\" style=\"stroke-width: 1; opacity: 0;\" class=\"endPoint right sub\" transform=\"matrix(1,0,0,1,563,0)\"></circle><circle cx=\"48.078125\" cy=\"80.984375\" r=\"5\" stroke=\"#000000\" fill=\"#ffffff\" id=\"drup_elem_6_endpoint_4\" _vimium-has-onclick-listener=\"\" style=\"stroke-width: 1; opacity: 0;\" class=\"endPoint left-up sub\" transform=\"matrix(1,0,0,1,563,0)\"></circle><circle cx=\"48.078125\" cy=\"135.984375\" r=\"5\" stroke=\"#000000\" fill=\"#ffffff\" id=\"drup_elem_6_endpoint_5\" _vimium-has-onclick-listener=\"\" style=\"stroke-width: 1; opacity: 0;\" class=\"endPoint left-down sub\" transform=\"matrix(1,0,0,1,563,0)\"></circle><circle cx=\"191.078125\" cy=\"80.984375\" r=\"5\" stroke=\"#000000\" fill=\"#ffffff\" id=\"drup_elem_6_endpoint_6\" _vimium-has-onclick-listener=\"\" style=\"stroke-width: 1; opacity: 0;\" class=\"endPoint right-up sub\" transform=\"matrix(1,0,0,1,563,0)\"></circle><circle cx=\"191.078125\" cy=\"135.984375\" r=\"5\" stroke=\"#000000\" fill=\"#ffffff\" id=\"drup_elem_6_endpoint_7\" _vimium-has-onclick-listener=\"\" style=\"stroke-width: 1; opacity: 0;\" class=\"endPoint right-down sub\" transform=\"matrix(1,0,0,1,563,0)\"></circle><text x=\"119.578125\" y=\"108.484375\" style=\"font-size: 20px; text-anchor: middle; alignment-baseline: central; opacity: 0;\" class=\"egal-label sub\" transform=\"matrix(1,0,0,1,563,0)\">|</text></g><g id=\"drup_elem_7\" first-frame=\"1\" last-frame=\"1\" _vimium-has-onclick-listener=\"\" class=\"drupElem\"><rect x=\"324.078125\" y=\"51.984375\" width=\"194\" height=\"105\" fill=\"#ffffff\" stroke=\"#000000\" vector-effect=\"non-scaling-stroke\" style=\"stroke-width: 1;\" _vimium-has-onclick-listener=\"\" class=\"core alignable sub\" transform=\"matrix(1,0,0,1,0,4)\"></rect><circle cx=\"421.078125\" cy=\"51.984375\" r=\"5\" stroke=\"#000000\" fill=\"#ffffff\" id=\"drup_elem_7_endpoint_0\" _vimium-has-onclick-listener=\"\" style=\"stroke-width: 1; opacity: 0;\" class=\"endPoint up sub\" transform=\"matrix(1,0,0,1,0,4)\"></circle><circle cx=\"421.078125\" cy=\"156.984375\" r=\"5\" stroke=\"#000000\" fill=\"#ffffff\" id=\"drup_elem_7_endpoint_1\" _vimium-has-onclick-listener=\"\" style=\"stroke-width: 1; opacity: 0;\" class=\"endPoint down sub\" transform=\"matrix(1,0,0,1,0,4)\"></circle><circle cx=\"324.078125\" cy=\"104.484375\" r=\"5\" stroke=\"#000000\" fill=\"#ffffff\" id=\"drup_elem_7_endpoint_2\" _vimium-has-onclick-listener=\"\" style=\"stroke-width: 1; opacity: 0;\" class=\"endPoint left sub\" transform=\"matrix(1,0,0,1,0,4)\"></circle><circle cx=\"518.078125\" cy=\"104.484375\" r=\"5\" stroke=\"#000000\" fill=\"#ffffff\" id=\"drup_elem_7_endpoint_3\" _vimium-has-onclick-listener=\"\" style=\"stroke-width: 1; opacity: 0;\" class=\"endPoint right sub\" transform=\"matrix(1,0,0,1,0,4)\"></circle><circle cx=\"324.078125\" cy=\"51.984375\" r=\"5\" stroke=\"#000000\" fill=\"#ffffff\" id=\"drup_elem_7_endpoint_4\" _vimium-has-onclick-listener=\"\" style=\"stroke-width: 1; opacity: 0;\" class=\"endPoint left-up sub\" transform=\"matrix(1,0,0,1,0,4)\"></circle><circle cx=\"324.078125\" cy=\"156.984375\" r=\"5\" stroke=\"#000000\" fill=\"#ffffff\" id=\"drup_elem_7_endpoint_5\" _vimium-has-onclick-listener=\"\" style=\"stroke-width: 1; opacity: 0;\" class=\"endPoint left-down sub\" transform=\"matrix(1,0,0,1,0,4)\"></circle><circle cx=\"518.078125\" cy=\"51.984375\" r=\"5\" stroke=\"#000000\" fill=\"#ffffff\" id=\"drup_elem_7_endpoint_6\" _vimium-has-onclick-listener=\"\" style=\"stroke-width: 1; opacity: 0;\" class=\"endPoint right-up sub\" transform=\"matrix(1,0,0,1,0,4)\"></circle><circle cx=\"518.078125\" cy=\"156.984375\" r=\"5\" stroke=\"#000000\" fill=\"#ffffff\" id=\"drup_elem_7_endpoint_7\" _vimium-has-onclick-listener=\"\" style=\"stroke-width: 1; opacity: 0;\" class=\"endPoint right-down sub\" transform=\"matrix(1,0,0,1,0,4)\"></circle><text x=\"421.078125\" y=\"104.484375\" style=\"font-size: 20px; text-anchor: middle; alignment-baseline: central; opacity: 0;\" class=\"egal-label sub\" transform=\"matrix(1,0,0,1,0,4)\">|</text></g><g id=\"drup_elem_8\" first-frame=\"1\" last-frame=\"1\" _vimium-has-onclick-listener=\"\" class=\"drupElem\"><text x=\"325.078125\" y=\"72.984375\" _vimium-has-onclick-listener=\"\" class=\"core alignable sub egal-label\" style=\"text-anchor: middle; alignment-baseline: central; font-size: 20px;\" data-src=\"ORM\" transform=\"matrix(1,0,0,1,97,29)\">ORM</text></g><g id=\"drup_elem_9\" first-frame=\"1\" last-frame=\"1\" _vimium-has-onclick-listener=\"\" class=\"drupElem\"><text x=\"153.078125\" y=\"124.984375\" _vimium-has-onclick-listener=\"\" class=\"core alignable sub egal-label\" style=\"text-anchor: middle; alignment-baseline: central; font-size: 20px;\" data-src=\"Application\" transform=\"matrix(1,0,0,1,4,-16)\">Application</text></g><g id=\"drup_elem_12\" first-frame=\"1\" last-frame=\"1\" _vimium-has-onclick-listener=\"\" class=\"drupElem\"><text x=\"153.078125\" y=\"124.984375\" _vimium-has-onclick-listener=\"\" class=\"core alignable sub egal-label\" style=\"text-anchor: middle; alignment-baseline: central; font-size: 20px; visibility: visible; opacity: 1;\" data-src=\"Database\" transform=\"matrix(1,0,0,1,536,-17)\">Database</text></g><g id=\"drup_elem_10\" first-frame=\"1\" last-frame=\"1\" _vimium-has-onclick-listener=\"\" class=\"drupElem\"><text x=\"151.078125\" y=\"130.984375\" _vimium-has-onclick-listener=\"\" class=\"core alignable sub egal-label\" style=\"text-anchor: middle; alignment-baseline: central;\"></text></g><g id=\"drup_elem_11\" first-frame=\"1\" last-frame=\"1\" _vimium-has-onclick-listener=\"\" class=\"drupElem\"><text x=\"267.078125\" y=\"172.984375\" _vimium-has-onclick-listener=\"\" class=\"core alignable sub egal-label\" style=\"text-anchor: middle; alignment-baseline: central; font-size: 20px;\"></text></g><g id=\"drup_elem_15\" first-frame=\"1\" last-frame=\"1\" _vimium-has-onclick-listener=\"\" class=\"drupElem\"><line x1=\"231.078125\" x2=\"324.078125\" y1=\"108.484375\" y2=\"108.484375\" stroke=\"#000000\" data-n1=\"drup_elem_5_endpoint_3\" style=\"marker-end: url(&quot;#arrowEndMarker&quot;);\" class=\"connector egal-line core\" data-n2=\"drup_elem_7_endpoint_2\" _vimium-has-onclick-listener=\"\"></line><text x=\"277.578125\" y=\"106.484375\" style=\"font-size: 20px; text-anchor: middle; alignment-baseline: central; opacity: 0;\" class=\"egal-label sub\">|</text></g><g id=\"drup_elem_16\" first-frame=\"1\" last-frame=\"1\" _vimium-has-onclick-listener=\"\" class=\"drupElem egal-select\"><line x1=\"518.078125\" x2=\"611.078125\" y1=\"108.484375\" y2=\"108.484375\" stroke=\"#000000\" data-n1=\"drup_elem_7_endpoint_3\" style=\"marker-end: url(&quot;#arrowEndMarker&quot;);\" class=\"connector egal-line core\" data-n2=\"drup_elem_6_endpoint_2\" _vimium-has-onclick-listener=\"\"></line><text x=\"551.078125\" y=\"106.484375\" style=\"font-size: 20px; text-anchor: middle; alignment-baseline: central; opacity: 0;\" class=\"egal-label sub\">|</text></g></svg>"
   ]
  },
  {
   "cell_type": "markdown",
   "metadata": {
    "slideshow": {
     "slide_type": "slide"
    }
   },
   "source": [
    "# Benefits of using a ORM"
   ]
  },
  {
   "cell_type": "markdown",
   "metadata": {
    "slideshow": {
     "slide_type": "fragment"
    }
   },
   "source": [
    "![](https://i.imgflip.com/rtcwz.jpg)"
   ]
  },
  {
   "cell_type": "markdown",
   "metadata": {
    "slideshow": {
     "slide_type": "subslide"
    }
   },
   "source": [
    "# Less error prone than writing SQL by hand"
   ]
  },
  {
   "cell_type": "markdown",
   "metadata": {
    "slideshow": {
     "slide_type": "subslide"
    }
   },
   "source": [
    "# More likely to produce more efficient SQL"
   ]
  },
  {
   "cell_type": "markdown",
   "metadata": {
    "slideshow": {
     "slide_type": "slide"
    }
   },
   "source": [
    "# Models\n",
    "```py\n",
    "class Author(models.Model):\n",
    "    name = models.CharField(max_length=255)\n",
    "    age = models.IntegerField()\n",
    "\n",
    "\n",
    "class Genre(models.Model):\n",
    "    name = models.CharField(max_length=255)\n",
    "\n",
    "\n",
    "class Book(models.Model):\n",
    "    title = models.CharField(max_length=255)\n",
    "    authors = models.ManyToManyField(Author, related_name='books')\n",
    "    genre = models.ForeignKey(Genre, related_name='books',\n",
    "                              on_delete=models.SET_NULL, null=True)\n",
    "\n",
    "```"
   ]
  },
  {
   "cell_type": "markdown",
   "metadata": {
    "slideshow": {
     "slide_type": "slide"
    }
   },
   "source": [
    "# QuerySets"
   ]
  },
  {
   "cell_type": "code",
   "execution_count": 4,
   "metadata": {
    "slideshow": {
     "slide_type": "fragment"
    }
   },
   "outputs": [
    {
     "name": "stdout",
     "output_type": "stream",
     "text": [
      "Good Omens\n"
     ]
    }
   ],
   "source": [
    "queryset = Book.objects.filter(title__startswith=\"G\").exclude(genre__name__startswith=\"B\")\n",
    "\n",
    "for x in queryset:\n",
    "    print(x.title)"
   ]
  },
  {
   "cell_type": "markdown",
   "metadata": {
    "slideshow": {
     "slide_type": "fragment"
    }
   },
   "source": [
    "- Lazy"
   ]
  },
  {
   "cell_type": "markdown",
   "metadata": {
    "slideshow": {
     "slide_type": "fragment"
    }
   },
   "source": [
    "- Chainable"
   ]
  },
  {
   "cell_type": "markdown",
   "metadata": {
    "slideshow": {
     "slide_type": "fragment"
    }
   },
   "source": [
    "- Cachable"
   ]
  },
  {
   "cell_type": "markdown",
   "metadata": {
    "slideshow": {
     "slide_type": "slide"
    }
   },
   "source": [
    "![](https://media.giphy.com/media/AtRaEatCSjC0w/giphy.gif)"
   ]
  },
  {
   "cell_type": "markdown",
   "metadata": {
    "slideshow": {
     "slide_type": "slide"
    }
   },
   "source": [
    "# Creating a QuerySet"
   ]
  },
  {
   "cell_type": "markdown",
   "metadata": {
    "slideshow": {
     "slide_type": "fragment"
    }
   },
   "source": [
    "```py\n",
    "queryset = Author.objects\n",
    "```"
   ]
  },
  {
   "cell_type": "markdown",
   "metadata": {
    "slideshow": {
     "slide_type": "slide"
    }
   },
   "source": [
    "# Creating instances"
   ]
  },
  {
   "cell_type": "code",
   "execution_count": 5,
   "metadata": {
    "slideshow": {
     "slide_type": "fragment"
    }
   },
   "outputs": [],
   "source": [
    "douglas_adams = Author.objects.create(name=\"Douglas Adams\", age=42)"
   ]
  },
  {
   "cell_type": "markdown",
   "metadata": {
    "slideshow": {
     "slide_type": "slide"
    }
   },
   "source": [
    "# Getting a single instance"
   ]
  },
  {
   "cell_type": "code",
   "execution_count": 6,
   "metadata": {
    "slideshow": {
     "slide_type": "fragment"
    }
   },
   "outputs": [
    {
     "data": {
      "text/plain": [
       "<Author: Author object (50)>"
      ]
     },
     "execution_count": 6,
     "metadata": {},
     "output_type": "execute_result"
    }
   ],
   "source": [
    "Author.objects.get(name=\"Terry Pratchett\")"
   ]
  },
  {
   "cell_type": "code",
   "execution_count": 7,
   "metadata": {
    "slideshow": {
     "slide_type": "fragment"
    }
   },
   "outputs": [
    {
     "data": {
      "text/plain": [
       "<Author: Author object (50)>"
      ]
     },
     "execution_count": 7,
     "metadata": {},
     "output_type": "execute_result"
    }
   ],
   "source": [
    "Author.objects.first()"
   ]
  },
  {
   "cell_type": "markdown",
   "metadata": {
    "slideshow": {
     "slide_type": "slide"
    }
   },
   "source": [
    "# Getting multiple instances"
   ]
  },
  {
   "cell_type": "code",
   "execution_count": 8,
   "metadata": {
    "slideshow": {
     "slide_type": "fragment"
    }
   },
   "outputs": [
    {
     "data": {
      "text/plain": [
       "<QuerySet [<Book: Book object (27)>]>"
      ]
     },
     "execution_count": 8,
     "metadata": {},
     "output_type": "execute_result"
    }
   ],
   "source": [
    "Book.objects.all()"
   ]
  },
  {
   "cell_type": "code",
   "execution_count": 9,
   "metadata": {
    "slideshow": {
     "slide_type": "fragment"
    }
   },
   "outputs": [
    {
     "data": {
      "text/plain": [
       "<QuerySet [<Book: Book object (27)>]>"
      ]
     },
     "execution_count": 9,
     "metadata": {},
     "output_type": "execute_result"
    }
   ],
   "source": [
    "Book.objects.filter(title=\"Good Omens\")"
   ]
  },
  {
   "cell_type": "code",
   "execution_count": 10,
   "metadata": {
    "slideshow": {
     "slide_type": "fragment"
    }
   },
   "outputs": [
    {
     "data": {
      "text/plain": [
       "<QuerySet [<Author: Author object (50)>, <Author: Author object (51)>]>"
      ]
     },
     "execution_count": 10,
     "metadata": {},
     "output_type": "execute_result"
    }
   ],
   "source": [
    "Author.objects.filter(age__gt=50)"
   ]
  },
  {
   "cell_type": "code",
   "execution_count": 11,
   "metadata": {
    "slideshow": {
     "slide_type": "fragment"
    }
   },
   "outputs": [
    {
     "data": {
      "text/plain": [
       "<QuerySet []>"
      ]
     },
     "execution_count": 11,
     "metadata": {},
     "output_type": "execute_result"
    }
   ],
   "source": [
    "Book.objects.exclude(title__startswith=\"Good\")"
   ]
  },
  {
   "cell_type": "markdown",
   "metadata": {
    "slideshow": {
     "slide_type": "slide"
    }
   },
   "source": [
    "# Modifing existing instances"
   ]
  },
  {
   "cell_type": "code",
   "execution_count": 12,
   "metadata": {
    "slideshow": {
     "slide_type": "fragment"
    }
   },
   "outputs": [],
   "source": [
    "douglas_adams = Author.objects.get(name=\"Douglas Adams\")\n",
    "douglas_adams.age = 70\n",
    "douglas_adams.save()"
   ]
  },
  {
   "cell_type": "code",
   "execution_count": 13,
   "metadata": {
    "slideshow": {
     "slide_type": "fragment"
    }
   },
   "outputs": [],
   "source": [
    "num_updated = Author.objects.filter(name=\"Douglas Adams\").update(age=70)"
   ]
  },
  {
   "cell_type": "markdown",
   "metadata": {
    "slideshow": {
     "slide_type": "slide"
    }
   },
   "source": [
    "# Deleting instances"
   ]
  },
  {
   "cell_type": "code",
   "execution_count": 14,
   "metadata": {
    "slideshow": {
     "slide_type": "fragment"
    }
   },
   "outputs": [],
   "source": [
    "_ = douglas_adams.delete()\n",
    "\n",
    "# or Author.objects.filter(name=\"Douglas Adams\").delete()"
   ]
  },
  {
   "cell_type": "markdown",
   "metadata": {
    "slideshow": {
     "slide_type": "slide"
    }
   },
   "source": [
    "# Counting instances"
   ]
  },
  {
   "cell_type": "code",
   "execution_count": 15,
   "metadata": {
    "slideshow": {
     "slide_type": "fragment"
    }
   },
   "outputs": [
    {
     "data": {
      "text/plain": [
       "1"
      ]
     },
     "execution_count": 15,
     "metadata": {},
     "output_type": "execute_result"
    }
   ],
   "source": [
    "len(Book.objects.all())"
   ]
  },
  {
   "cell_type": "code",
   "execution_count": 16,
   "metadata": {
    "slideshow": {
     "slide_type": "fragment"
    }
   },
   "outputs": [
    {
     "data": {
      "text/plain": [
       "1"
      ]
     },
     "execution_count": 16,
     "metadata": {},
     "output_type": "execute_result"
    }
   ],
   "source": [
    "Book.objects.count()"
   ]
  },
  {
   "cell_type": "code",
   "execution_count": 17,
   "metadata": {
    "slideshow": {
     "slide_type": "fragment"
    }
   },
   "outputs": [
    {
     "data": {
      "text/plain": [
       "True"
      ]
     },
     "execution_count": 17,
     "metadata": {},
     "output_type": "execute_result"
    }
   ],
   "source": [
    "Book.objects.exists()"
   ]
  },
  {
   "cell_type": "markdown",
   "metadata": {
    "slideshow": {
     "slide_type": "slide"
    }
   },
   "source": [
    "# Ordering instances"
   ]
  },
  {
   "cell_type": "code",
   "execution_count": 18,
   "metadata": {
    "slideshow": {
     "slide_type": "fragment"
    }
   },
   "outputs": [
    {
     "data": {
      "text/plain": [
       "<QuerySet [<Author: Author object (51)>, <Author: Author object (50)>]>"
      ]
     },
     "execution_count": 18,
     "metadata": {},
     "output_type": "execute_result"
    }
   ],
   "source": [
    "Author.objects.all().order_by('age')"
   ]
  },
  {
   "cell_type": "code",
   "execution_count": 19,
   "metadata": {
    "slideshow": {
     "slide_type": "fragment"
    }
   },
   "outputs": [
    {
     "data": {
      "text/plain": [
       "<QuerySet [<Author: Author object (50)>, <Author: Author object (51)>]>"
      ]
     },
     "execution_count": 19,
     "metadata": {},
     "output_type": "execute_result"
    }
   ],
   "source": [
    "Author.objects.all().order_by('-age')"
   ]
  },
  {
   "cell_type": "markdown",
   "metadata": {
    "slideshow": {
     "slide_type": "slide"
    }
   },
   "source": [
    "# Limiting number or returned instances"
   ]
  },
  {
   "cell_type": "code",
   "execution_count": 20,
   "metadata": {
    "slideshow": {
     "slide_type": "fragment"
    }
   },
   "outputs": [
    {
     "data": {
      "text/plain": [
       "<QuerySet []>"
      ]
     },
     "execution_count": 20,
     "metadata": {},
     "output_type": "execute_result"
    }
   ],
   "source": [
    "Author.objects.all()[5:10]"
   ]
  },
  {
   "cell_type": "markdown",
   "metadata": {
    "slideshow": {
     "slide_type": "slide"
    }
   },
   "source": [
    "# Dealing with related models"
   ]
  },
  {
   "cell_type": "code",
   "execution_count": 21,
   "metadata": {
    "slideshow": {
     "slide_type": "subslide"
    }
   },
   "outputs": [
    {
     "data": {
      "text/plain": [
       "<QuerySet [<Author: Author object (53)>]>"
      ]
     },
     "execution_count": 21,
     "metadata": {},
     "output_type": "execute_result"
    }
   ],
   "source": [
    "douglas_adams = Author.objects.create(name=\"Douglas Adams\", age=42)\n",
    "book = Book.objects.create(title=\"Hitchhiker's Guild to the Galaxy\", genre=fantasy)\n",
    "\n",
    "book.authors.add(douglas_adams)\n",
    "book.authors.all()"
   ]
  },
  {
   "cell_type": "code",
   "execution_count": 22,
   "metadata": {
    "slideshow": {
     "slide_type": "subslide"
    }
   },
   "outputs": [
    {
     "data": {
      "text/plain": [
       "<QuerySet [<Book: Book object (27)>, <Book: Book object (27)>]>"
      ]
     },
     "execution_count": 22,
     "metadata": {},
     "output_type": "execute_result"
    }
   ],
   "source": [
    "Book.objects.filter(authors__age__gte=50)"
   ]
  },
  {
   "cell_type": "markdown",
   "metadata": {
    "slideshow": {
     "slide_type": "slide"
    }
   },
   "source": [
    "# Tips, Tricks and Gotchas"
   ]
  },
  {
   "cell_type": "markdown",
   "metadata": {
    "slideshow": {
     "slide_type": "slide"
    }
   },
   "source": [
    "![](https://i.imgflip.com/h9dtu.jpg)"
   ]
  },
  {
   "cell_type": "code",
   "execution_count": 23,
   "metadata": {
    "slideshow": {
     "slide_type": "slide"
    }
   },
   "outputs": [
    {
     "name": "stdout",
     "output_type": "stream",
     "text": [
      "Good Omens 16\n",
      "Hitchhiker's Guild to the Galaxy 16\n",
      "\n",
      "----SQL Queries----\n",
      "SELECT \"books_book\".\"id\", \"books_book\".\"title\", \"books_book\".\"genre_id\" FROM \"books_book\"\n",
      "SELECT \"books_genre\".\"id\", \"books_genre\".\"name\" FROM \"books_genre\" WHERE \"books_genre\".\"id\" = 16\n",
      "SELECT \"books_genre\".\"id\", \"books_genre\".\"name\" FROM \"books_genre\" WHERE \"books_genre\".\"id\" = 16\n"
     ]
    }
   ],
   "source": [
    "reset_queries()\n",
    "\n",
    "books = Book.objects.all()\n",
    "for b in books:\n",
    "    print(b.title, b.genre.id)\n",
    "    \n",
    "print_queries()"
   ]
  },
  {
   "cell_type": "code",
   "execution_count": 24,
   "metadata": {
    "slideshow": {
     "slide_type": "subslide"
    }
   },
   "outputs": [
    {
     "name": "stdout",
     "output_type": "stream",
     "text": [
      "Good Omens 16\n",
      "Hitchhiker's Guild to the Galaxy 16\n",
      "\n",
      "----SQL Queries----\n",
      "SELECT \"books_book\".\"id\", \"books_book\".\"title\", \"books_book\".\"genre_id\" FROM \"books_book\"\n"
     ]
    }
   ],
   "source": [
    "reset_queries()\n",
    "\n",
    "books = Book.objects.all()\n",
    "for b in books:\n",
    "    print(b.title, b.genre_id)\n",
    "    \n",
    "print_queries()"
   ]
  },
  {
   "cell_type": "code",
   "execution_count": 25,
   "metadata": {
    "slideshow": {
     "slide_type": "slide"
    }
   },
   "outputs": [
    {
     "name": "stdout",
     "output_type": "stream",
     "text": [
      "Good Omens Fantasy\n",
      "Hitchhiker's Guild to the Galaxy Fantasy\n",
      "\n",
      "----SQL Queries----\n",
      "SELECT \"books_book\".\"id\", \"books_book\".\"title\", \"books_book\".\"genre_id\" FROM \"books_book\"\n",
      "SELECT \"books_genre\".\"id\", \"books_genre\".\"name\" FROM \"books_genre\" WHERE \"books_genre\".\"id\" = 16\n",
      "SELECT \"books_genre\".\"id\", \"books_genre\".\"name\" FROM \"books_genre\" WHERE \"books_genre\".\"id\" = 16\n"
     ]
    }
   ],
   "source": [
    "reset_queries()\n",
    "\n",
    "books = Book.objects.all()\n",
    "for b in books:\n",
    "    print(b.title, b.genre.name)\n",
    "    \n",
    "print_queries()"
   ]
  },
  {
   "cell_type": "code",
   "execution_count": 26,
   "metadata": {
    "slideshow": {
     "slide_type": "subslide"
    }
   },
   "outputs": [
    {
     "name": "stdout",
     "output_type": "stream",
     "text": [
      "Good Omens Fantasy\n",
      "Hitchhiker's Guild to the Galaxy Fantasy\n",
      "\n",
      "----SQL Queries----\n",
      "SELECT \"books_book\".\"id\", \"books_book\".\"title\", \"books_book\".\"genre_id\", \"books_genre\".\"id\", \"books_genre\".\"name\" FROM \"books_book\" LEFT OUTER JOIN \"books_genre\" ON (\"books_book\".\"genre_id\" = \"books_genre\".\"id\")\n"
     ]
    }
   ],
   "source": [
    "reset_queries()\n",
    "\n",
    "books = Book.objects.all()\n",
    "books = books.select_related('genre')\n",
    "for b in books:\n",
    "    print(b.title, b.genre.name)\n",
    "    \n",
    "print_queries()"
   ]
  },
  {
   "cell_type": "code",
   "execution_count": 27,
   "metadata": {
    "slideshow": {
     "slide_type": "slide"
    }
   },
   "outputs": [
    {
     "name": "stdout",
     "output_type": "stream",
     "text": [
      "Author object (50) Book object (27)\n",
      "Author object (51) Book object (27)\n",
      "Author object (53) Book object (28)\n",
      "\n",
      "----SQL Queries----\n",
      "SELECT \"books_book\".\"id\", \"books_book\".\"title\", \"books_book\".\"genre_id\" FROM \"books_book\"\n",
      "SELECT \"books_author\".\"id\", \"books_author\".\"name\", \"books_author\".\"age\" FROM \"books_author\" INNER JOIN \"books_book_authors\" ON (\"books_author\".\"id\" = \"books_book_authors\".\"author_id\") WHERE \"books_book_authors\".\"book_id\" = 27\n",
      "SELECT \"books_author\".\"id\", \"books_author\".\"name\", \"books_author\".\"age\" FROM \"books_author\" INNER JOIN \"books_book_authors\" ON (\"books_author\".\"id\" = \"books_book_authors\".\"author_id\") WHERE \"books_book_authors\".\"book_id\" = 28\n"
     ]
    }
   ],
   "source": [
    "reset_queries()\n",
    "\n",
    "books = Book.objects.all()\n",
    "for b in books:\n",
    "    for a in b.authors.all():\n",
    "        print(a, b)\n",
    "        \n",
    "print_queries()"
   ]
  },
  {
   "cell_type": "code",
   "execution_count": 28,
   "metadata": {
    "slideshow": {
     "slide_type": "subslide"
    }
   },
   "outputs": [
    {
     "name": "stdout",
     "output_type": "stream",
     "text": [
      "Author object (50) Book object (27)\n",
      "Author object (51) Book object (27)\n",
      "Author object (53) Book object (28)\n",
      "\n",
      "----SQL Queries----\n",
      "SELECT \"books_book\".\"id\", \"books_book\".\"title\", \"books_book\".\"genre_id\" FROM \"books_book\"\n",
      "SELECT (\"books_book_authors\".\"book_id\") AS \"_prefetch_related_val_book_id\", \"books_author\".\"id\", \"books_author\".\"name\", \"books_author\".\"age\" FROM \"books_author\" INNER JOIN \"books_book_authors\" ON (\"books_author\".\"id\" = \"books_book_authors\".\"author_id\") WHERE \"books_book_authors\".\"book_id\" IN (27, 28)\n"
     ]
    }
   ],
   "source": [
    "reset_queries()\n",
    "\n",
    "books = Book.objects.all()\n",
    "books = books.prefetch_related('authors')\n",
    "for b in books:\n",
    "    for a in b.authors.all():\n",
    "        print(a, b)\n",
    "        \n",
    "print_queries()"
   ]
  },
  {
   "cell_type": "code",
   "execution_count": 29,
   "metadata": {
    "slideshow": {
     "slide_type": "slide"
    }
   },
   "outputs": [
    {
     "name": "stdout",
     "output_type": "stream",
     "text": [
      "Good Omens\n",
      "Hitchhiker's Guild to the Galaxy\n",
      "\n",
      "----SQL Queries----\n",
      "SELECT (1) AS \"a\" FROM \"books_book\" LIMIT 1\n",
      "SELECT \"books_book\".\"id\", \"books_book\".\"title\", \"books_book\".\"genre_id\" FROM \"books_book\"\n"
     ]
    }
   ],
   "source": [
    "reset_queries()\n",
    "\n",
    "books = Book.objects.all()\n",
    "if books.exists():\n",
    "    for b in books:\n",
    "        print(b.title)\n",
    "        \n",
    "print_queries()"
   ]
  },
  {
   "cell_type": "code",
   "execution_count": 30,
   "metadata": {
    "slideshow": {
     "slide_type": "subslide"
    }
   },
   "outputs": [
    {
     "name": "stdout",
     "output_type": "stream",
     "text": [
      "Good Omens\n",
      "Hitchhiker's Guild to the Galaxy\n",
      "\n",
      "----SQL Queries----\n",
      "SELECT \"books_book\".\"id\", \"books_book\".\"title\", \"books_book\".\"genre_id\" FROM \"books_book\"\n"
     ]
    }
   ],
   "source": [
    "reset_queries()\n",
    "\n",
    "books = Book.objects.all()\n",
    "if books:\n",
    "    for b in books:\n",
    "        print(b.title)\n",
    "        \n",
    "print_queries()"
   ]
  }
 ],
 "metadata": {
  "celltoolbar": "Slideshow",
  "kernelspec": {
   "display_name": "Django Shell-Plus",
   "language": "python",
   "name": "django_extensions"
  },
  "language_info": {
   "codemirror_mode": {
    "name": "ipython",
    "version": 3
   },
   "file_extension": ".py",
   "mimetype": "text/x-python",
   "name": "python",
   "nbconvert_exporter": "python",
   "pygments_lexer": "ipython3",
   "version": "3.6.4"
  }
 },
 "nbformat": 4,
 "nbformat_minor": 2
}
